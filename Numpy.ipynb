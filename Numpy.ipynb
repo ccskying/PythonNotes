{
  "nbformat": 4,
  "nbformat_minor": 0,
  "metadata": {
    "colab": {
      "name": "Numpy.ipynb",
      "provenance": [],
      "authorship_tag": "ABX9TyNzmKitWbUbNDRHFpDljfbw",
      "include_colab_link": true
    },
    "kernelspec": {
      "name": "python3",
      "display_name": "Python 3"
    }
  },
  "cells": [
    {
      "cell_type": "markdown",
      "metadata": {
        "id": "view-in-github",
        "colab_type": "text"
      },
      "source": [
        "<a href=\"https://colab.research.google.com/github/ccskying/PythonNotes/blob/master/Numpy.ipynb\" target=\"_parent\"><img src=\"https://colab.research.google.com/assets/colab-badge.svg\" alt=\"Open In Colab\"/></a>"
      ]
    },
    {
      "cell_type": "code",
      "metadata": {
        "id": "gU6cXNcN9jq4",
        "colab_type": "code",
        "colab": {
          "base_uri": "https://localhost:8080/",
          "height": 517
        },
        "outputId": "c3fcae9f-72e6-4124-a540-53b18c8dbd85"
      },
      "source": [
        "import numpy as np\n",
        "import matplotlib.pyplot as plt\n",
        "import cvxpy as cp\n",
        "\n",
        "a = [1,2]\n",
        "b = np.array(a)\n",
        "#arrary in np, b+b=[2,4], 2b=[2,4]\n",
        "print(2*b)\n",
        "print(b+b)\n",
        "print(a+a)\n",
        "#inner product\n",
        "c = np.array([[1,2],[3,4]]) \n",
        "d = np.array([[11,12],[13,14]]) \n",
        "innercd = np.dot(c,d)\n",
        "print(innercd)\n",
        "\n",
        "#matplotlab plot one dimention\n",
        "x1=np.linspace(0,10,1000)\n",
        "y1=np.sin(x1)\n",
        "plt.plot(x1,y1)\n",
        "\n",
        "# Problem data.\n",
        "m = 30\n",
        "n = 20\n",
        "np.random.seed(1)\n",
        "A = np.random.randn(m, n)\n",
        "b = np.random.randn(m)\n",
        "\n",
        "# Construct the problem.\n",
        "x = cp.Variable(n)\n",
        "objective = cp.Minimize(cp.sum_squares(A*x - b))\n",
        "constraints = [0 <= x, x <= 1]\n",
        "prob = cp.Problem(objective, constraints)\n",
        "\n",
        "# The optimal objective value is returned by `prob.solve()`.\n",
        "result = prob.solve()\n",
        "# The optimal value for x is stored in `x.value`.\n",
        "print(x.value)\n",
        "# The optimal Lagrange multiplier for a constraint is stored in\n",
        "# `constraint.dual_value`.\n",
        "print(constraints[0].dual_value)"
      ],
      "execution_count": 14,
      "outputs": [
        {
          "output_type": "stream",
          "text": [
            "[2 4]\n",
            "[2 4]\n",
            "[1, 2, 1, 2]\n",
            "[[37 40]\n",
            " [85 92]]\n",
            "[-1.79109253e-19  2.85112420e-02  2.79973443e-19  3.37658751e-20\n",
            " -2.72802659e-19  1.49285011e-01 -9.97212062e-20  8.35373892e-20\n",
            "  2.46718649e-01  5.78224144e-01 -4.03739462e-19  1.01242860e-03\n",
            " -9.28486200e-20  2.26767464e-01 -1.58813677e-19 -8.97232308e-20\n",
            " -1.22145726e-19 -1.51509432e-19  1.12060673e-19 -3.48318630e-19]\n",
            "[ 2.50938945  0.          2.78354615  1.79425782 13.08579183  0.\n",
            "  0.73716363  3.35344995  0.          0.          8.93825054  0.\n",
            "  7.02955161  0.          4.71068649  3.18873635  2.06090107 10.08166738\n",
            "  3.0481157   8.53268239]\n"
          ],
          "name": "stdout"
        },
        {
          "output_type": "display_data",
          "data": {
            "image/png": "[encoded data removed]",
            "text/plain": [
              "<Figure size 432x288 with 1 Axes>"
            ]
          },
          "metadata": {
            "tags": []
          }
        }
      ]
    }
  ]
}