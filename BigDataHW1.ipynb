{
  "nbformat": 4,
  "nbformat_minor": 0,
  "metadata": {
    "colab": {
      "name": "BigDataHW1.ipynb",
      "provenance": [],
      "toc_visible": true,
      "authorship_tag": "ABX9TyPYACeBuIpzN7zze5gw8GEF",
      "include_colab_link": true
    },
    "kernelspec": {
      "name": "python3",
      "display_name": "Python 3"
    }
  },
  "cells": [
    {
      "cell_type": "markdown",
      "metadata": {
        "id": "view-in-github",
        "colab_type": "text"
      },
      "source": [
        "<a href=\"https://colab.research.google.com/github/ccskying/PythonNotes/blob/master/BigDataHW1.ipynb\" target=\"_parent\"><img src=\"https://colab.research.google.com/assets/colab-badge.svg\" alt=\"Open In Colab\"/></a>"
      ]
    },
    {
      "cell_type": "code",
      "metadata": {
        "id": "cy5vFkRxsVJN",
        "colab_type": "code",
        "colab": {}
      },
      "source": [
        "import tensorflow as tf\n",
        "import numpy as np\n",
        "import matplotlib.pyplot as plt\n",
        "# Import tensorflow's MNIST data handle\n",
        "from tensorflow.examples.tutorials.mnist import input_data\n",
        "mnist = input_data.read_data_sets('MNIST_data', one_hot=True)\n",
        "#load data and preprocess data\n",
        "mnist = tf.keras.datasets.mnist\n",
        "(train_images, train_labels),(test_images, test_labels)=mnist.load_data()\n",
        "#choose pictures of number 3 and number 5\n",
        "(train_images,train_labels),(test_images,test_labels)=mnist.load_data()#include all numbers from 0 to 9\n",
        "index_train=np.where((train_labels==3)| (train_labels==5))#index of numbers 3 and 5 in training data\n",
        "index_test=np.where((test_labels==3)|(test_labels==5))#index of numbers 3 and 5 in test data\n",
        "train_images_35=train_images[index_train]\n",
        "train_images_35=train_images_35.reshape((len(train_images_35),train_images_35[1].size))\n",
        "#label of number 3: -1; label of number 5: +1\n",
        "train_labels_35=train_labels[index_train].astype('int')\n",
        "test_images_35=test_images[index_test]\n",
        "test_images_35=test_images_35.reshape(len(test_images_35),train_images_35[1].size)\n",
        "test_labels_35=test_labels[index_test].astype('int')\n",
        "#change labels from '3 ' and '5’to '-1' and '+1'\n",
        "train_labels_35[np.where(train_labels_35==3)]= -1\n",
        "train_labels_35[np.where(train_labels_35==5)]=1\n",
        "test_labels_35[np.where(test_labels_35==3)]= -1\n",
        "test_labels_35[np.where(test_labels_35==5)]=1\n",
        "#show the first 25 training data\n",
        "plt.figure(figsize=(10,10))\n",
        "for i in range(25):\n",
        " plt.subplot(5,5,i+1)\n",
        " plt.xticks([])\n",
        " plt.yticks([])\n",
        " plt.imshow(train_images_35[i].reshape((28,28)),)\n",
        " plt.xlabel('number'+str(train_labels_35[i]))\n",
        "plt.show()\n",
        "#append dummy feature 1 to feature vectors, and then normalize\n",
        "train_images_35_w_dummy=np.insert(train_images_35,784,1,axis=1)/255\n",
        "test_images_35_w_dummy=np.insert(test_images_35,784,1,axis=1)/255\n",
        "#check the dimension, the feature vector of each sample shall be 785\n",
        "print(train_images_35_w_dummy.shape)\n",
        "print(test_images_35_w_dummy.shape)\n",
        "print(train_images_35_w_dummy.dtype)\n",
        "\n",
        "#define w\n",
        "w = np.ones(train_images_35_w_dummy[0].shape,train_images_35_w_dummy[0].dtype,'C')\n",
        "\n",
        "#calculate distance\n",
        "def Distance(point):\n",
        "  print(hello)\n",
        "  return 0\n",
        "\n"
      ],
      "execution_count": 0,
      "outputs": []
    }
  ]
}